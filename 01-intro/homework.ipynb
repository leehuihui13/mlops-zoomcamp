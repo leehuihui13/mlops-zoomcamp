{
 "cells": [
  {
   "cell_type": "code",
   "execution_count": 1,
   "id": "54cd6e7f",
   "metadata": {},
   "outputs": [],
   "source": [
    "import pandas as pd\n",
    "import sklearn\n",
    "from sklearn.feature_extraction import DictVectorizer\n",
    "from sklearn.linear_model import LinearRegression\n",
    "from sklearn.metrics import mean_squared_error"
   ]
  },
  {
   "cell_type": "code",
   "execution_count": 2,
   "id": "811bcc48",
   "metadata": {},
   "outputs": [
    {
     "data": {
      "text/plain": [
       "'1.0.2'"
      ]
     },
     "execution_count": 2,
     "metadata": {},
     "output_type": "execute_result"
    }
   ],
   "source": [
    "sklearn.__version__"
   ]
  },
  {
   "cell_type": "code",
   "execution_count": 3,
   "id": "2f37da2e",
   "metadata": {},
   "outputs": [],
   "source": [
    "# !pip install pyarrow"
   ]
  },
  {
   "cell_type": "code",
   "execution_count": 4,
   "id": "8e88adec",
   "metadata": {},
   "outputs": [],
   "source": [
    "jan_df = pd.read_parquet('https://d37ci6vzurychx.cloudfront.net/trip-data/yellow_tripdata_2023-01.parquet')"
   ]
  },
  {
   "cell_type": "code",
   "execution_count": 5,
   "id": "e5c2764f",
   "metadata": {},
   "outputs": [
    {
     "data": {
      "text/plain": [
       "(3066766, 19)"
      ]
     },
     "execution_count": 5,
     "metadata": {},
     "output_type": "execute_result"
    }
   ],
   "source": [
    "# Q1 Read the data for January. How many columns are there?\n",
    "jan_df.shape"
   ]
  },
  {
   "cell_type": "code",
   "execution_count": 6,
   "id": "93db813f",
   "metadata": {},
   "outputs": [],
   "source": [
    "# Q2 What's the standard deviation of the trips duration in January\n",
    "jan_df['duration'] = (jan_df['tpep_dropoff_datetime'] - jan_df['tpep_pickup_datetime']).astype('timedelta64[m]')"
   ]
  },
  {
   "cell_type": "code",
   "execution_count": 7,
   "id": "659a0656",
   "metadata": {},
   "outputs": [
    {
     "data": {
      "text/plain": [
       "42.594499992966355"
      ]
     },
     "execution_count": 7,
     "metadata": {},
     "output_type": "execute_result"
    }
   ],
   "source": [
    "jan_df['duration'].std()"
   ]
  },
  {
   "cell_type": "code",
   "execution_count": 8,
   "id": "fba111a3",
   "metadata": {},
   "outputs": [],
   "source": [
    "jan_df = jan_df[['PULocationID', 'DOLocationID', 'duration']]"
   ]
  },
  {
   "cell_type": "code",
   "execution_count": 9,
   "id": "735be2c5",
   "metadata": {},
   "outputs": [
    {
     "data": {
      "text/plain": [
       "<AxesSubplot:>"
      ]
     },
     "execution_count": 9,
     "metadata": {},
     "output_type": "execute_result"
    },
    {
     "data": {
      "image/png": "[encoded data removed]",
      "text/plain": [
       "<Figure size 1440x360 with 1 Axes>"
      ]
     },
     "metadata": {
      "needs_background": "light"
     },
     "output_type": "display_data"
    }
   ],
   "source": [
    "# Q3 Check the distribution of the duration variable. There are some outliers. \n",
    "# Let's remove them and keep only the records where the duration was between 1 and 60 minutes (inclusive).\n",
    "# What fraction of the records left after you dropped the outliers?\n",
    "jan_df.boxplot(column='duration', figsize=(20, 5), vert=False)"
   ]
  },
  {
   "cell_type": "code",
   "execution_count": 10,
   "id": "6b94db18",
   "metadata": {},
   "outputs": [],
   "source": [
    "filtered_jan_df = jan_df.loc[(jan_df['duration'] >= 1) & (jan_df['duration'] <= 60)]"
   ]
  },
  {
   "cell_type": "code",
   "execution_count": 11,
   "id": "f51f6aca",
   "metadata": {},
   "outputs": [
    {
     "data": {
      "text/plain": [
       "98.18303711466737"
      ]
     },
     "execution_count": 11,
     "metadata": {},
     "output_type": "execute_result"
    }
   ],
   "source": [
    "len(filtered_jan_df) / len(jan_df) * 100"
   ]
  },
  {
   "cell_type": "code",
   "execution_count": 12,
   "id": "8bbd9af3",
   "metadata": {},
   "outputs": [],
   "source": [
    "# Q4 Let's apply one-hot encoding to the pickup and dropoff location IDs. We'll use only these two features for our model.\n",
    "# Turn the dataframe into a list of dictionaries (remember to re-cast the ids to strings - otherwise it will label encode them)\n",
    "# Fit a dictionary vectorizer\n",
    "# Get a feature matrix from it\n",
    "# What's the dimensionality of this matrix (number of columns)?"
   ]
  },
  {
   "cell_type": "code",
   "execution_count": 13,
   "id": "18b240fd",
   "metadata": {},
   "outputs": [
    {
     "name": "stderr",
     "output_type": "stream",
     "text": [
      "/tmp/ipykernel_55096/3422988404.py:1: SettingWithCopyWarning: \n",
      "A value is trying to be set on a copy of a slice from a DataFrame.\n",
      "Try using .loc[row_indexer,col_indexer] = value instead\n",
      "\n",
      "See the caveats in the documentation: https://pandas.pydata.org/pandas-docs/stable/user_guide/indexing.html#returning-a-view-versus-a-copy\n",
      "  filtered_jan_df['PULocationID'] = filtered_jan_df['PULocationID'].astype('str')\n",
      "/tmp/ipykernel_55096/3422988404.py:2: SettingWithCopyWarning: \n",
      "A value is trying to be set on a copy of a slice from a DataFrame.\n",
      "Try using .loc[row_indexer,col_indexer] = value instead\n",
      "\n",
      "See the caveats in the documentation: https://pandas.pydata.org/pandas-docs/stable/user_guide/indexing.html#returning-a-view-versus-a-copy\n",
      "  filtered_jan_df['DOLocationID'] = filtered_jan_df['DOLocationID'].astype('str')\n"
     ]
    }
   ],
   "source": [
    "filtered_jan_df['PULocationID'] = filtered_jan_df['PULocationID'].astype('str')\n",
    "filtered_jan_df['DOLocationID'] = filtered_jan_df['DOLocationID'].astype('str')"
   ]
  },
  {
   "cell_type": "code",
   "execution_count": 14,
   "id": "0a223220",
   "metadata": {},
   "outputs": [],
   "source": [
    "locations_jan = filtered_jan_df[['PULocationID', 'DOLocationID']].to_dict('records')"
   ]
  },
  {
   "cell_type": "code",
   "execution_count": 15,
   "id": "bcbce4e3",
   "metadata": {},
   "outputs": [],
   "source": [
    "v = DictVectorizer()\n",
    "X_train = v.fit_transform(locations_jan)"
   ]
  },
  {
   "cell_type": "code",
   "execution_count": 16,
   "id": "87045456",
   "metadata": {},
   "outputs": [
    {
     "data": {
      "text/plain": [
       "(3011044, 515)"
      ]
     },
     "execution_count": 16,
     "metadata": {},
     "output_type": "execute_result"
    }
   ],
   "source": [
    "X_train.shape"
   ]
  },
  {
   "cell_type": "code",
   "execution_count": 17,
   "id": "7670c593",
   "metadata": {},
   "outputs": [],
   "source": [
    "# Q5 Train a plain linear regression model with default parameters, where duration is the response variable\n",
    "# Calculate the RMSE of the model on the training data"
   ]
  },
  {
   "cell_type": "code",
   "execution_count": 18,
   "id": "5b55ea95",
   "metadata": {},
   "outputs": [
    {
     "data": {
      "text/plain": [
       "LinearRegression()"
      ]
     },
     "execution_count": 18,
     "metadata": {},
     "output_type": "execute_result"
    }
   ],
   "source": [
    "reg = LinearRegression()\n",
    "reg.fit(X_train, filtered_jan_df['duration'])"
   ]
  },
  {
   "cell_type": "code",
   "execution_count": 19,
   "id": "1a422b08",
   "metadata": {},
   "outputs": [
    {
     "data": {
      "text/plain": [
       "7.688651659305238"
      ]
     },
     "execution_count": 19,
     "metadata": {},
     "output_type": "execute_result"
    }
   ],
   "source": [
    "y_pred_jan = reg.predict(X_train)\n",
    "mean_squared_error(filtered_jan_df['duration'], y_pred_jan, squared=False)"
   ]
  },
  {
   "cell_type": "code",
   "execution_count": 20,
   "id": "8aeb0776",
   "metadata": {},
   "outputs": [],
   "source": [
    "# Q6 Now let's apply this model to the validation dataset (February 2023).\n",
    "# What's the RMSE on validation?\n",
    "feb_df = pd.read_parquet('https://d37ci6vzurychx.cloudfront.net/trip-data/yellow_tripdata_2023-02.parquet')\n",
    "feb_df['duration'] = (feb_df['tpep_dropoff_datetime'] - feb_df['tpep_pickup_datetime']).astype('timedelta64[m]')\n",
    "feb_df = feb_df.loc[(feb_df['duration'] >= 1) & (feb_df['duration'] <= 60)]\n",
    "feb_df = feb_df[['PULocationID', 'DOLocationID', 'duration']]"
   ]
  },
  {
   "cell_type": "code",
   "execution_count": 21,
   "id": "f21eaea1",
   "metadata": {},
   "outputs": [],
   "source": [
    "feb_df['PULocationID'] = feb_df['PULocationID'].astype('str')\n",
    "feb_df['DOLocationID'] = feb_df['DOLocationID'].astype('str')"
   ]
  },
  {
   "cell_type": "code",
   "execution_count": 22,
   "id": "6b91ea6c",
   "metadata": {},
   "outputs": [],
   "source": [
    "locations_feb = feb_df[['PULocationID', 'DOLocationID']].to_dict('records')"
   ]
  },
  {
   "cell_type": "code",
   "execution_count": 23,
   "id": "8b56626b",
   "metadata": {},
   "outputs": [],
   "source": [
    "del jan_df\n",
    "del X_train\n",
    "X_val = v.transform(locations_feb)"
   ]
  },
  {
   "cell_type": "code",
   "execution_count": 24,
   "id": "ddda922d",
   "metadata": {},
   "outputs": [
    {
     "data": {
      "text/plain": [
       "7.868985034138532"
      ]
     },
     "execution_count": 24,
     "metadata": {},
     "output_type": "execute_result"
    }
   ],
   "source": [
    "y_pred_feb = reg.predict(X_val)\n",
    "mean_squared_error(feb_df['duration'], y_pred_feb, squared=False)"
   ]
  }
 ],
 "metadata": {
  "kernelspec": {
   "display_name": "Python 3 (ipykernel)",
   "language": "python",
   "name": "python3"
  },
  "language_info": {
   "codemirror_mode": {
    "name": "ipython",
    "version": 3
   },
   "file_extension": ".py",
   "mimetype": "text/x-python",
   "name": "python",
   "nbconvert_exporter": "python",
   "pygments_lexer": "ipython3",
   "version": "3.9.12"
  }
 },
 "nbformat": 4,
 "nbformat_minor": 5
}
