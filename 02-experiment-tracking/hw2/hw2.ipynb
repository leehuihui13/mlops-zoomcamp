{
 "cells": [
  {
   "cell_type": "code",
   "execution_count": 1,
   "id": "2af3192f",
   "metadata": {},
   "outputs": [
    {
     "data": {
      "text/plain": [
       "'2.22.0'"
      ]
     },
     "execution_count": 1,
     "metadata": {},
     "output_type": "execute_result"
    }
   ],
   "source": [
    "import mlflow\n",
    "mlflow.__version__"
   ]
  },
  {
   "cell_type": "code",
   "execution_count": 2,
   "id": "f83237c4",
   "metadata": {},
   "outputs": [],
   "source": [
    "!python preprocess_data.py --raw_data_path data --dest_path ./output"
   ]
  },
  {
   "cell_type": "code",
   "execution_count": 3,
   "id": "48ef34ea",
   "metadata": {},
   "outputs": [
    {
     "data": {
      "text/plain": [
       "4"
      ]
     },
     "execution_count": 3,
     "metadata": {},
     "output_type": "execute_result"
    }
   ],
   "source": [
    "import os\n",
    "len(os.listdir('./output'))"
   ]
  },
  {
   "cell_type": "code",
   "execution_count": 4,
   "id": "ff7bb089",
   "metadata": {},
   "outputs": [],
   "source": [
    "!python train.py"
   ]
  },
  {
   "cell_type": "code",
   "execution_count": 5,
   "id": "b493bb25",
   "metadata": {},
   "outputs": [
    {
     "name": "stdout",
     "output_type": "stream",
     "text": [
      "tracking URI: 'http://127.0.0.1:5000'\n"
     ]
    }
   ],
   "source": [
    "import mlflow\n",
    "\n",
    "\n",
    "mlflow.set_tracking_uri(\"http://127.0.0.1:5000\")\n",
    "print(f\"tracking URI: '{mlflow.get_tracking_uri()}'\")"
   ]
  },
  {
   "cell_type": "code",
   "execution_count": 6,
   "id": "5f0fa3c3",
   "metadata": {},
   "outputs": [],
   "source": [
    "from mlflow.tracking import MlflowClient\n",
    "\n",
    "client = MlflowClient(\"http://127.0.0.1:5000\")"
   ]
  },
  {
   "cell_type": "code",
   "execution_count": 7,
   "id": "38feb00b",
   "metadata": {},
   "outputs": [],
   "source": [
    "# !mlflow server --backend-store-uri sqlite:///mlflow.db --default-artifact-root ./artifacts"
   ]
  },
  {
   "cell_type": "code",
   "execution_count": 8,
   "id": "769bdbe1",
   "metadata": {},
   "outputs": [
    {
     "name": "stdout",
     "output_type": "stream",
     "text": [
      "\n",
      "  0%|          | 0/15 [00:00<?, ?trial/s, best loss=?]\n",
      "                                                      \n",
      "🏃 View run handsome-fox-494 at: http://127.0.0.1:5000/#/experiments/398957368660904762/runs/c39901a11d1043f08f3b2942e94dc983\n",
      "\n",
      "\n",
      "  0%|          | 0/15 [00:08<?, ?trial/s, best loss=?]\n",
      "                                                      \n",
      "🧪 View experiment at: http://127.0.0.1:5000/#/experiments/398957368660904762\n",
      "\n",
      "\n",
      "  0%|          | 0/15 [00:08<?, ?trial/s, best loss=?]\n",
      "  7%|▋         | 1/15 [00:08<01:52,  8.03s/trial, best loss: 5.370086069268862]\n",
      "                                                                               \n",
      "🏃 View run adventurous-wren-567 at: http://127.0.0.1:5000/#/experiments/398957368660904762/runs/769b6080d4cd4efc89a6e815cf23263e\n",
      "\n",
      "\n",
      "  7%|▋         | 1/15 [00:08<01:52,  8.03s/trial, best loss: 5.370086069268862]\n",
      "                                                                               \n",
      "🧪 View experiment at: http://127.0.0.1:5000/#/experiments/398957368660904762\n",
      "\n",
      "\n",
      "  7%|▋         | 1/15 [00:08<01:52,  8.03s/trial, best loss: 5.370086069268862]\n",
      " 13%|█▎        | 2/15 [00:08<00:46,  3.56s/trial, best loss: 5.370086069268862]\n",
      "                                                                               \n",
      "🏃 View run unique-lark-103 at: http://127.0.0.1:5000/#/experiments/398957368660904762/runs/fa92eac40e6346a8b87340256198396d\n",
      "\n",
      "\n",
      " 13%|█▎        | 2/15 [00:09<00:46,  3.56s/trial, best loss: 5.370086069268862]\n",
      "                                                                               \n",
      "🧪 View experiment at: http://127.0.0.1:5000/#/experiments/398957368660904762\n",
      "\n",
      "\n",
      " 13%|█▎        | 2/15 [00:09<00:46,  3.56s/trial, best loss: 5.370086069268862]\n",
      " 20%|██        | 3/15 [00:09<00:26,  2.20s/trial, best loss: 5.370086069268862]\n",
      "                                                                               \n",
      "🏃 View run unleashed-chimp-545 at: http://127.0.0.1:5000/#/experiments/398957368660904762/runs/26f23dbdb68c40cea21b6995b1003081\n",
      "\n",
      "\n",
      " 20%|██        | 3/15 [00:14<00:26,  2.20s/trial, best loss: 5.370086069268862]\n",
      "                                                                               \n",
      "🧪 View experiment at: http://127.0.0.1:5000/#/experiments/398957368660904762\n",
      "\n",
      "\n",
      " 20%|██        | 3/15 [00:14<00:26,  2.20s/trial, best loss: 5.370086069268862]\n",
      " 27%|██▋       | 4/15 [00:14<00:37,  3.37s/trial, best loss: 5.357490752366866]\n",
      "                                                                               \n",
      "🏃 View run overjoyed-steed-238 at: http://127.0.0.1:5000/#/experiments/398957368660904762/runs/dcd965e4720046e1b0b6353f7f7989de\n",
      "\n",
      "\n",
      " 27%|██▋       | 4/15 [00:16<00:37,  3.37s/trial, best loss: 5.357490752366866]\n",
      "                                                                               \n",
      "🧪 View experiment at: http://127.0.0.1:5000/#/experiments/398957368660904762\n",
      "\n",
      "\n",
      " 27%|██▋       | 4/15 [00:16<00:37,  3.37s/trial, best loss: 5.357490752366866]\n",
      " 33%|███▎      | 5/15 [00:16<00:30,  3.06s/trial, best loss: 5.357490752366866]\n",
      "                                                                               \n",
      "🏃 View run vaunted-skunk-850 at: http://127.0.0.1:5000/#/experiments/398957368660904762/runs/c6269c5ef9c74ab993aa78c698dd6806\n",
      "\n",
      "\n",
      " 33%|███▎      | 5/15 [00:25<00:30,  3.06s/trial, best loss: 5.357490752366866]\n",
      "                                                                               \n",
      "🧪 View experiment at: http://127.0.0.1:5000/#/experiments/398957368660904762\n",
      "\n",
      "\n",
      " 33%|███▎      | 5/15 [00:25<00:30,  3.06s/trial, best loss: 5.357490752366866]\n",
      " 40%|████      | 6/15 [00:25<00:44,  4.93s/trial, best loss: 5.354695072530291]\n",
      "                                                                               \n",
      "🏃 View run serious-chimp-239 at: http://127.0.0.1:5000/#/experiments/398957368660904762/runs/8d9b97e948424afb8a1eb96804d803f6\n",
      "\n",
      "\n",
      " 40%|████      | 6/15 [00:33<00:44,  4.93s/trial, best loss: 5.354695072530291]\n",
      "                                                                               \n",
      "🧪 View experiment at: http://127.0.0.1:5000/#/experiments/398957368660904762\n",
      "\n",
      "\n",
      " 40%|████      | 6/15 [00:33<00:44,  4.93s/trial, best loss: 5.354695072530291]\n",
      " 47%|████▋     | 7/15 [00:33<00:49,  6.14s/trial, best loss: 5.354695072530291]\n",
      "                                                                               \n",
      "🏃 View run marvelous-snipe-22 at: http://127.0.0.1:5000/#/experiments/398957368660904762/runs/c413baf158ba4127a47aa2cc447df990\n",
      "\n",
      "\n",
      " 47%|████▋     | 7/15 [00:34<00:49,  6.14s/trial, best loss: 5.354695072530291]\n",
      "                                                                               \n",
      "🧪 View experiment at: http://127.0.0.1:5000/#/experiments/398957368660904762\n",
      "\n",
      "\n",
      " 47%|████▋     | 7/15 [00:34<00:49,  6.14s/trial, best loss: 5.354695072530291]\n",
      " 53%|█████▎    | 8/15 [00:34<00:31,  4.49s/trial, best loss: 5.354695072530291]\n",
      "                                                                               \n",
      "🏃 View run illustrious-croc-636 at: http://127.0.0.1:5000/#/experiments/398957368660904762/runs/b9b447a99fd441ab9d04f678be286995\n",
      "\n",
      "\n",
      " 53%|█████▎    | 8/15 [00:40<00:31,  4.49s/trial, best loss: 5.354695072530291]\n",
      "                                                                               \n",
      "🧪 View experiment at: http://127.0.0.1:5000/#/experiments/398957368660904762\n",
      "\n",
      "\n",
      " 53%|█████▎    | 8/15 [00:40<00:31,  4.49s/trial, best loss: 5.354695072530291]\n",
      " 60%|██████    | 9/15 [00:40<00:28,  4.74s/trial, best loss: 5.354695072530291]\n",
      "                                                                               \n",
      "🏃 View run caring-goat-776 at: http://127.0.0.1:5000/#/experiments/398957368660904762/runs/7319d896b68245538a1e9a350658e673\n",
      "\n",
      "\n",
      " 60%|██████    | 9/15 [00:44<00:28,  4.74s/trial, best loss: 5.354695072530291]\n",
      "                                                                               \n",
      "🧪 View experiment at: http://127.0.0.1:5000/#/experiments/398957368660904762\n",
      "\n",
      "\n",
      " 60%|██████    | 9/15 [00:44<00:28,  4.74s/trial, best loss: 5.354695072530291]\n",
      " 67%|██████▋   | 10/15 [00:44<00:23,  4.62s/trial, best loss: 5.354695072530291]\n",
      "                                                                                \n",
      "🏃 View run mercurial-grouse-359 at: http://127.0.0.1:5000/#/experiments/398957368660904762/runs/40a8e24db3784485a18a280e5996b99c\n",
      "\n",
      "\n",
      " 67%|██████▋   | 10/15 [00:47<00:23,  4.62s/trial, best loss: 5.354695072530291]\n",
      "                                                                                \n",
      "🧪 View experiment at: http://127.0.0.1:5000/#/experiments/398957368660904762\n",
      "\n",
      "\n",
      " 67%|██████▋   | 10/15 [00:47<00:23,  4.62s/trial, best loss: 5.354695072530291]\n",
      " 73%|███████▎  | 11/15 [00:47<00:16,  4.24s/trial, best loss: 5.335419588556921]\n",
      "                                                                                \n",
      "🏃 View run clean-shrew-726 at: http://127.0.0.1:5000/#/experiments/398957368660904762/runs/416aec8aba794c2281e2324392447abe\n",
      "\n",
      "\n",
      " 73%|███████▎  | 11/15 [00:50<00:16,  4.24s/trial, best loss: 5.335419588556921]\n",
      "                                                                                \n",
      "🧪 View experiment at: http://127.0.0.1:5000/#/experiments/398957368660904762\n",
      "\n",
      "\n",
      " 73%|███████▎  | 11/15 [00:50<00:16,  4.24s/trial, best loss: 5.335419588556921]\n",
      " 80%|████████  | 12/15 [00:50<00:11,  3.80s/trial, best loss: 5.335419588556921]\n",
      "                                                                                \n",
      "🏃 View run selective-lark-946 at: http://127.0.0.1:5000/#/experiments/398957368660904762/runs/04bb1180a41b40ccbdc33362aafdad97\n",
      "\n",
      "\n",
      " 80%|████████  | 12/15 [00:51<00:11,  3.80s/trial, best loss: 5.335419588556921]\n",
      "                                                                                \n",
      "🧪 View experiment at: http://127.0.0.1:5000/#/experiments/398957368660904762\n",
      "\n",
      "\n",
      " 80%|████████  | 12/15 [00:51<00:11,  3.80s/trial, best loss: 5.335419588556921]\n",
      " 87%|████████▋ | 13/15 [00:51<00:05,  2.94s/trial, best loss: 5.335419588556921]\n",
      "                                                                                \n",
      "🏃 View run delightful-whale-625 at: http://127.0.0.1:5000/#/experiments/398957368660904762/runs/f5bdabf9857347b896c0bad76813c23b\n",
      "\n",
      "\n",
      " 87%|████████▋ | 13/15 [00:54<00:05,  2.94s/trial, best loss: 5.335419588556921]\n",
      "                                                                                \n",
      "🧪 View experiment at: http://127.0.0.1:5000/#/experiments/398957368660904762\n",
      "\n",
      "\n",
      " 87%|████████▋ | 13/15 [00:54<00:05,  2.94s/trial, best loss: 5.335419588556921]\n",
      " 93%|█████████▎| 14/15 [00:54<00:03,  3.00s/trial, best loss: 5.335419588556921]\n",
      "                                                                                \n",
      "🏃 View run invincible-tern-867 at: http://127.0.0.1:5000/#/experiments/398957368660904762/runs/ce170e1f60a846a4a7e18f60879b9d7f\n",
      "\n",
      "\n",
      " 93%|█████████▎| 14/15 [00:59<00:03,  3.00s/trial, best loss: 5.335419588556921]\n",
      "                                                                                \n",
      "🧪 View experiment at: http://127.0.0.1:5000/#/experiments/398957368660904762\n",
      "\n",
      "\n",
      " 93%|█████████▎| 14/15 [00:59<00:03,  3.00s/trial, best loss: 5.335419588556921]\n",
      "100%|██████████| 15/15 [00:59<00:00,  3.64s/trial, best loss: 5.335419588556921]\n",
      "100%|██████████| 15/15 [00:59<00:00,  3.99s/trial, best loss: 5.335419588556921]\n"
     ]
    },
    {
     "name": "stderr",
     "output_type": "stream",
     "text": [
      "2025/08/04 13:47:47 INFO mlflow.tracking.fluent: Experiment with name 'random-forest-hyperopt' does not exist. Creating a new experiment.\n"
     ]
    }
   ],
   "source": [
    "!python hpo.py"
   ]
  },
  {
   "cell_type": "code",
   "execution_count": 9,
   "id": "8a1e8187",
   "metadata": {},
   "outputs": [
    {
     "name": "stdout",
     "output_type": "stream",
     "text": [
      "🏃 View run suave-jay-109 at: http://127.0.0.1:5000/#/experiments/580024605197673543/runs/91b287807b4d44a3bfc01aa2b3c65b6b\n",
      "🧪 View experiment at: http://127.0.0.1:5000/#/experiments/580024605197673543\n",
      "🏃 View run luxuriant-panda-706 at: http://127.0.0.1:5000/#/experiments/580024605197673543/runs/5485e5a4ab8848f78461a70710ceeb59\n",
      "🧪 View experiment at: http://127.0.0.1:5000/#/experiments/580024605197673543\n",
      "🏃 View run upset-croc-736 at: http://127.0.0.1:5000/#/experiments/580024605197673543/runs/e66664c5a3be4bd9b4e8189b9b2eff42\n",
      "🧪 View experiment at: http://127.0.0.1:5000/#/experiments/580024605197673543\n",
      "🏃 View run skittish-pug-857 at: http://127.0.0.1:5000/#/experiments/580024605197673543/runs/1e4f538b671b4df3b003b52f51e0b3f0\n",
      "🧪 View experiment at: http://127.0.0.1:5000/#/experiments/580024605197673543\n",
      "🏃 View run classy-shoat-641 at: http://127.0.0.1:5000/#/experiments/580024605197673543/runs/bb828e28da6a4e93955480987ed68639\n",
      "🧪 View experiment at: http://127.0.0.1:5000/#/experiments/580024605197673543\n"
     ]
    },
    {
     "name": "stderr",
     "output_type": "stream",
     "text": [
      "2025/08/04 13:48:55 INFO mlflow.tracking.fluent: Experiment with name 'random-forest-best-models' does not exist. Creating a new experiment.\n",
      "Successfully registered model 'RandomForestModel'.\n",
      "2025/08/04 13:50:21 INFO mlflow.store.model_registry.abstract_store: Waiting up to 300 seconds for model version to finish creation. Model name: RandomForestModel, version 1\n",
      "Created version '1' of model 'RandomForestModel'.\n"
     ]
    }
   ],
   "source": [
    "!python register_model.py"
   ]
  }
 ],
 "metadata": {
  "kernelspec": {
   "display_name": "exp-tracking-env",
   "language": "python",
   "name": "python3"
  },
  "language_info": {
   "codemirror_mode": {
    "name": "ipython",
    "version": 3
   },
   "file_extension": ".py",
   "mimetype": "text/x-python",
   "name": "python",
   "nbconvert_exporter": "python",
   "pygments_lexer": "ipython3",
   "version": "3.13.5"
  }
 },
 "nbformat": 4,
 "nbformat_minor": 5
}
